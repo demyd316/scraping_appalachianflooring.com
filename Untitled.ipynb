{
 "cells": [
  {
   "cell_type": "code",
   "execution_count": 145,
   "metadata": {},
   "outputs": [],
   "source": [
    "from selenium import webdriver\n",
    "from selenium.webdriver.chrome.options import Options\n",
    "from selenium.webdriver.common.action_chains import ActionChains\n",
    "from selenium.webdriver.support import expected_conditions as EC\n",
    "from selenium.webdriver.common.by import By\n",
    "from selenium.webdriver.support.ui import WebDriverWait\n",
    "from selenium.webdriver.common.keys import Keys\n",
    "from selenium.webdriver.remote.webelement import WebElement\n",
    "from openpyxl import Workbook\n",
    "from openpyxl import load_workbook\n",
    "from os.path import expanduser\n",
    "from os import path\n",
    "import os\n",
    "import csv\n",
    "import urllib.request\n",
    "import xlsxwriter\n",
    "import xlrd\n",
    "import string\n",
    "from openpyxl import load_workbook\n",
    "from csv import writer \n",
    "import logging\n",
    "import threading\n",
    "import time"
   ]
  },
  {
   "cell_type": "code",
   "execution_count": 146,
   "metadata": {},
   "outputs": [],
   "source": [
    "driver = webdriver.Chrome()\n",
    "url = \"https://appalachianflooring.com/product-category/flooring/?lang=en&offset=18\"\n",
    "driver.get(url)\n"
   ]
  },
  {
   "cell_type": "code",
   "execution_count": null,
   "metadata": {},
   "outputs": [],
   "source": []
  },
  {
   "cell_type": "code",
   "execution_count": 156,
   "metadata": {},
   "outputs": [],
   "source": [
    "while True:\n",
    "    time.sleep(5)\n",
    "    try:\n",
    "        load_more_btn = driver.find_element(By.XPATH,'/html/body/div[3]/div/div[2]/nav/a')\n",
    "        load_more_btn.click()\n",
    "    except:\n",
    "        break\n",
    "#     if load_more_btn:\n",
    "        \n",
    "#         time.sleep(5)\n",
    "    "
   ]
  },
  {
   "cell_type": "code",
   "execution_count": 157,
   "metadata": {},
   "outputs": [],
   "source": [
    "li_count = driver.find_element(By.XPATH,'/html/body/div[3]/div/div[2]/p')\n",
    "count = li_count.text\n",
    "array = count.split(' ')\n",
    "products = driver.find_element_by_class_name('products')\n",
    "items = products.find_elements_by_tag_name('li')\n",
    "product_url_list = []\n",
    "for item in items:\n",
    "    item_a_obj = item.find_element_by_class_name('woocommerce-LoopProduct-link')\n",
    "    product_url_list.append(item_a_obj.get_attribute('href'))\n"
   ]
  },
  {
   "cell_type": "code",
   "execution_count": 161,
   "metadata": {},
   "outputs": [
    {
     "name": "stdout",
     "output_type": "stream",
     "text": [
      "97\n"
     ]
    }
   ],
   "source": [
    "print(len(product_url_list))"
   ]
  },
  {
   "cell_type": "code",
   "execution_count": 131,
   "metadata": {},
   "outputs": [],
   "source": [
    "driver.get(product_url_list[3])"
   ]
  },
  {
   "cell_type": "code",
   "execution_count": 142,
   "metadata": {},
   "outputs": [
    {
     "name": "stdout",
     "output_type": "stream",
     "text": [
      "Angora WHITE OAK\n"
     ]
    }
   ],
   "source": [
    "# time.sleep(5) \n",
    "product = driver.find_element_by_class_name('product')\n",
    "# name1 = products.find_elements_by_xpath('h1').text\n",
    "name1 = driver.find_element_by_xpath('/html/body/div[3]/section[1]/div[3]/div/div/h1').text\n",
    "name2 = driver.find_element_by_xpath('/html/body/div[3]/section[1]/div[3]/div/div/div[1]/span').text\n",
    "name = name1+' '+name2 \n",
    "print(name)"
   ]
  },
  {
   "cell_type": "code",
   "execution_count": 143,
   "metadata": {},
   "outputs": [
    {
     "name": "stdout",
     "output_type": "stream",
     "text": [
      "https://appalachianflooring.com/wp-content/uploads/2020/08/White-Oak-Excel-7-Angora.jpg\n"
     ]
    }
   ],
   "source": [
    "name1 = driver.find_element_by_xpath('/html/body/div[3]/section[1]/div[3]/div/div/h1').text\n",
    "name2 = driver.find_element_by_xpath('/html/body/div[3]/section[1]/div[3]/div/div/div[1]/span').text\n",
    "name = name1+' '+name2\n",
    "types = driver.find_element_by_xpath('/html/body/div[3]/section[2]/div/div[2]/div[1]/div[2]/table/thead/tr/th[2]').text\n",
    "collection = driver.find_element_by_xpath('/html/body/div[3]/section[2]/div/div[2]/div[1]/div[1]/div[2]/div/div[1]').text.split(':')[1]\n",
    "finish = driver.find_element_by_xpath('/html/body/div[3]/section[2]/div/div[2]/div[1]/div[1]/div[3]/div/div').text.split(':')[1]\n",
    "grade = driver.find_element_by_xpath('/html/body/div[3]/section[1]/div[3]/div/div/div[4]').text.split(':')[1]\n",
    "color = driver.find_element_by_xpath('/html/body/div[3]/section[2]/div/div[2]/div[1]/div[1]/div[1]/div/div').text.split(':')[1]\n",
    "species = driver.find_element_by_xpath('/html/body/div[3]/section[2]/div/div[2]/div[2]/div[1]').text.split(':')[1]\n",
    "Species_description = driver.find_element_by_xpath('/html/body/div[3]/section[2]/div/div[2]/div[2]/div[2]/p').text\n",
    "grade_description = driver.find_element_by_xpath('/html/body/div[3]/section[2]/div/div[2]/div[2]/div[4]/p').text\n",
    "\n",
    "availability = driver.find_element_by_xpath('/html/body/div[3]/section[2]/div/div[2]/div[1]/div[2]/table/tbody/tr[1]/td[2]').text\n",
    "thickness = driver.find_element_by_xpath('/html/body/div[3]/section[2]/div/div[2]/div[1]/div[2]/table/tbody/tr[2]/td[2]').text\n",
    "RELATIVE_HUMIDITY = driver.find_element_by_xpath('/html/body/div[3]/section[2]/div/div[2]/div[1]/div[2]/table/tbody/tr[4]/td[2]').text\n",
    "MADE_IN = driver.find_element_by_xpath('/html/body/div[3]/section[2]/div/div[2]/div[1]/div[2]/table/tbody/tr[5]/td[2]').text\n",
    "warranty = driver.find_element_by_xpath('/html/body/div[3]/section[2]/div/div[2]/div[1]/div[2]/table/tbody/tr[6]/td[2]').text\n",
    "INSTALLATION = driver.find_element_by_xpath('/html/body/div[3]/section[2]/div/div[2]/div[1]/div[2]/table/tbody/tr[7]/td[2]').text\n",
    "RADIANT_HEAT_APPROVED = driver.find_element_by_xpath('/html/body/div[3]/section[2]/div/div[2]/div[1]/div[2]/table/tbody/tr[9]/td[2]').text\n",
    "LEVEL = driver.find_element_by_xpath('/html/body/div[3]/section[2]/div/div[2]/div[1]/div[2]/table/tbody/tr[8]/td[2]').text\n",
    "description = \"\"\n",
    "image = driver.find_element_by_xpath('/html/body/div[3]/section[1]/div[2]/img').get_attribute('src')\n",
    "\n",
    "\n",
    "print(image)\n"
   ]
  },
  {
   "cell_type": "code",
   "execution_count": 144,
   "metadata": {},
   "outputs": [],
   "source": [
    "List = [name, types, collection, finish, grade, color, species, Species_description, grade_description, availability, thickness, RELATIVE_HUMIDITY, MADE_IN, warranty, INSTALLATION, RADIANT_HEAT_APPROVED, LEVEL, description, image ]\n",
    "with open('sample.csv', 'a', encoding='utf-8-sig', newline='') as f_object: \n",
    "    writer_object = writer(f_object) \n",
    "    writer_object.writerow(List) \n",
    "    f_object.close() \n",
    "time.sleep(1)"
   ]
  }
 ],
 "metadata": {
  "kernelspec": {
   "display_name": "Python 3",
   "language": "python",
   "name": "python3"
  },
  "language_info": {
   "codemirror_mode": {
    "name": "ipython",
    "version": 3
   },
   "file_extension": ".py",
   "mimetype": "text/x-python",
   "name": "python",
   "nbconvert_exporter": "python",
   "pygments_lexer": "ipython3",
   "version": "3.8.5"
  }
 },
 "nbformat": 4,
 "nbformat_minor": 4
}
